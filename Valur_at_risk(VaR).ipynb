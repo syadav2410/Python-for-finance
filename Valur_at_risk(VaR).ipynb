{
 "cells": [
  {
   "cell_type": "code",
   "execution_count": 1,
   "id": "43242b0a",
   "metadata": {},
   "outputs": [],
   "source": [
    "import yfinance as yf\n",
    "import numpy as np\n",
    "import pandas as pd\n",
    "import matplotlib.pyplot as plt"
   ]
  },
  {
   "cell_type": "code",
   "execution_count": 2,
   "id": "ac100c85",
   "metadata": {},
   "outputs": [
    {
     "name": "stdout",
     "output_type": "stream",
     "text": [
      "[*********************100%***********************]  1 of 1 completed\n"
     ]
    }
   ],
   "source": [
    "data = yf.download(\"JPM\", start=\"2010-01-01\", end=\"2024-03-31\")"
   ]
  },
  {
   "cell_type": "code",
   "execution_count": 3,
   "id": "c6dbb2d7",
   "metadata": {},
   "outputs": [
    {
     "data": {
      "text/html": [
       "<div>\n",
       "<style scoped>\n",
       "    .dataframe tbody tr th:only-of-type {\n",
       "        vertical-align: middle;\n",
       "    }\n",
       "\n",
       "    .dataframe tbody tr th {\n",
       "        vertical-align: top;\n",
       "    }\n",
       "\n",
       "    .dataframe thead th {\n",
       "        text-align: right;\n",
       "    }\n",
       "</style>\n",
       "<table border=\"1\" class=\"dataframe\">\n",
       "  <thead>\n",
       "    <tr style=\"text-align: right;\">\n",
       "      <th></th>\n",
       "      <th>Open</th>\n",
       "      <th>High</th>\n",
       "      <th>Low</th>\n",
       "      <th>Close</th>\n",
       "      <th>Adj Close</th>\n",
       "      <th>Volume</th>\n",
       "    </tr>\n",
       "    <tr>\n",
       "      <th>Date</th>\n",
       "      <th></th>\n",
       "      <th></th>\n",
       "      <th></th>\n",
       "      <th></th>\n",
       "      <th></th>\n",
       "      <th></th>\n",
       "    </tr>\n",
       "  </thead>\n",
       "  <tbody>\n",
       "    <tr>\n",
       "      <th>2010-01-04</th>\n",
       "      <td>41.790001</td>\n",
       "      <td>42.990002</td>\n",
       "      <td>41.669998</td>\n",
       "      <td>42.849998</td>\n",
       "      <td>29.497763</td>\n",
       "      <td>35460500</td>\n",
       "    </tr>\n",
       "    <tr>\n",
       "      <th>2010-01-05</th>\n",
       "      <td>42.790001</td>\n",
       "      <td>43.840000</td>\n",
       "      <td>42.779999</td>\n",
       "      <td>43.680000</td>\n",
       "      <td>30.069147</td>\n",
       "      <td>41208300</td>\n",
       "    </tr>\n",
       "    <tr>\n",
       "      <th>2010-01-06</th>\n",
       "      <td>43.450001</td>\n",
       "      <td>44.090000</td>\n",
       "      <td>43.310001</td>\n",
       "      <td>43.919998</td>\n",
       "      <td>30.234369</td>\n",
       "      <td>27729000</td>\n",
       "    </tr>\n",
       "    <tr>\n",
       "      <th>2010-01-07</th>\n",
       "      <td>43.790001</td>\n",
       "      <td>45.119999</td>\n",
       "      <td>43.610001</td>\n",
       "      <td>44.790001</td>\n",
       "      <td>30.833269</td>\n",
       "      <td>44864700</td>\n",
       "    </tr>\n",
       "    <tr>\n",
       "      <th>2010-01-08</th>\n",
       "      <td>44.369999</td>\n",
       "      <td>44.700001</td>\n",
       "      <td>44.080002</td>\n",
       "      <td>44.680000</td>\n",
       "      <td>30.757544</td>\n",
       "      <td>33110100</td>\n",
       "    </tr>\n",
       "    <tr>\n",
       "      <th>...</th>\n",
       "      <td>...</td>\n",
       "      <td>...</td>\n",
       "      <td>...</td>\n",
       "      <td>...</td>\n",
       "      <td>...</td>\n",
       "      <td>...</td>\n",
       "    </tr>\n",
       "    <tr>\n",
       "      <th>2024-03-22</th>\n",
       "      <td>199.009995</td>\n",
       "      <td>200.479996</td>\n",
       "      <td>196.539993</td>\n",
       "      <td>196.619995</td>\n",
       "      <td>195.479736</td>\n",
       "      <td>8105800</td>\n",
       "    </tr>\n",
       "    <tr>\n",
       "      <th>2024-03-25</th>\n",
       "      <td>196.600006</td>\n",
       "      <td>196.940002</td>\n",
       "      <td>194.360001</td>\n",
       "      <td>194.820007</td>\n",
       "      <td>193.690186</td>\n",
       "      <td>8620000</td>\n",
       "    </tr>\n",
       "    <tr>\n",
       "      <th>2024-03-26</th>\n",
       "      <td>194.589996</td>\n",
       "      <td>196.660004</td>\n",
       "      <td>194.059998</td>\n",
       "      <td>195.729996</td>\n",
       "      <td>194.594894</td>\n",
       "      <td>5961500</td>\n",
       "    </tr>\n",
       "    <tr>\n",
       "      <th>2024-03-27</th>\n",
       "      <td>196.500000</td>\n",
       "      <td>199.600006</td>\n",
       "      <td>196.380005</td>\n",
       "      <td>199.520004</td>\n",
       "      <td>198.362930</td>\n",
       "      <td>8725800</td>\n",
       "    </tr>\n",
       "    <tr>\n",
       "      <th>2024-03-28</th>\n",
       "      <td>199.490005</td>\n",
       "      <td>200.720001</td>\n",
       "      <td>198.539993</td>\n",
       "      <td>200.300003</td>\n",
       "      <td>199.138397</td>\n",
       "      <td>8628300</td>\n",
       "    </tr>\n",
       "  </tbody>\n",
       "</table>\n",
       "<p>3583 rows × 6 columns</p>\n",
       "</div>"
      ],
      "text/plain": [
       "                  Open        High         Low       Close   Adj Close  \\\n",
       "Date                                                                     \n",
       "2010-01-04   41.790001   42.990002   41.669998   42.849998   29.497763   \n",
       "2010-01-05   42.790001   43.840000   42.779999   43.680000   30.069147   \n",
       "2010-01-06   43.450001   44.090000   43.310001   43.919998   30.234369   \n",
       "2010-01-07   43.790001   45.119999   43.610001   44.790001   30.833269   \n",
       "2010-01-08   44.369999   44.700001   44.080002   44.680000   30.757544   \n",
       "...                ...         ...         ...         ...         ...   \n",
       "2024-03-22  199.009995  200.479996  196.539993  196.619995  195.479736   \n",
       "2024-03-25  196.600006  196.940002  194.360001  194.820007  193.690186   \n",
       "2024-03-26  194.589996  196.660004  194.059998  195.729996  194.594894   \n",
       "2024-03-27  196.500000  199.600006  196.380005  199.520004  198.362930   \n",
       "2024-03-28  199.490005  200.720001  198.539993  200.300003  199.138397   \n",
       "\n",
       "              Volume  \n",
       "Date                  \n",
       "2010-01-04  35460500  \n",
       "2010-01-05  41208300  \n",
       "2010-01-06  27729000  \n",
       "2010-01-07  44864700  \n",
       "2010-01-08  33110100  \n",
       "...              ...  \n",
       "2024-03-22   8105800  \n",
       "2024-03-25   8620000  \n",
       "2024-03-26   5961500  \n",
       "2024-03-27   8725800  \n",
       "2024-03-28   8628300  \n",
       "\n",
       "[3583 rows x 6 columns]"
      ]
     },
     "execution_count": 3,
     "metadata": {},
     "output_type": "execute_result"
    }
   ],
   "source": [
    "data"
   ]
  },
  {
   "cell_type": "code",
   "execution_count": 5,
   "id": "60dc32bc",
   "metadata": {},
   "outputs": [
    {
     "data": {
      "text/html": [
       "<div>\n",
       "<style scoped>\n",
       "    .dataframe tbody tr th:only-of-type {\n",
       "        vertical-align: middle;\n",
       "    }\n",
       "\n",
       "    .dataframe tbody tr th {\n",
       "        vertical-align: top;\n",
       "    }\n",
       "\n",
       "    .dataframe thead th {\n",
       "        text-align: right;\n",
       "    }\n",
       "</style>\n",
       "<table border=\"1\" class=\"dataframe\">\n",
       "  <thead>\n",
       "    <tr style=\"text-align: right;\">\n",
       "      <th></th>\n",
       "      <th>Open</th>\n",
       "      <th>High</th>\n",
       "      <th>Low</th>\n",
       "      <th>Close</th>\n",
       "      <th>Adj Close</th>\n",
       "      <th>Volume</th>\n",
       "      <th>Returns</th>\n",
       "    </tr>\n",
       "    <tr>\n",
       "      <th>Date</th>\n",
       "      <th></th>\n",
       "      <th></th>\n",
       "      <th></th>\n",
       "      <th></th>\n",
       "      <th></th>\n",
       "      <th></th>\n",
       "      <th></th>\n",
       "    </tr>\n",
       "  </thead>\n",
       "  <tbody>\n",
       "    <tr>\n",
       "      <th>2010-01-04</th>\n",
       "      <td>41.790001</td>\n",
       "      <td>42.990002</td>\n",
       "      <td>41.669998</td>\n",
       "      <td>42.849998</td>\n",
       "      <td>29.497763</td>\n",
       "      <td>35460500</td>\n",
       "      <td>NaN</td>\n",
       "    </tr>\n",
       "    <tr>\n",
       "      <th>2010-01-05</th>\n",
       "      <td>42.790001</td>\n",
       "      <td>43.840000</td>\n",
       "      <td>42.779999</td>\n",
       "      <td>43.680000</td>\n",
       "      <td>30.069147</td>\n",
       "      <td>41208300</td>\n",
       "      <td>0.019370</td>\n",
       "    </tr>\n",
       "    <tr>\n",
       "      <th>2010-01-06</th>\n",
       "      <td>43.450001</td>\n",
       "      <td>44.090000</td>\n",
       "      <td>43.310001</td>\n",
       "      <td>43.919998</td>\n",
       "      <td>30.234369</td>\n",
       "      <td>27729000</td>\n",
       "      <td>0.005494</td>\n",
       "    </tr>\n",
       "    <tr>\n",
       "      <th>2010-01-07</th>\n",
       "      <td>43.790001</td>\n",
       "      <td>45.119999</td>\n",
       "      <td>43.610001</td>\n",
       "      <td>44.790001</td>\n",
       "      <td>30.833269</td>\n",
       "      <td>44864700</td>\n",
       "      <td>0.019809</td>\n",
       "    </tr>\n",
       "    <tr>\n",
       "      <th>2010-01-08</th>\n",
       "      <td>44.369999</td>\n",
       "      <td>44.700001</td>\n",
       "      <td>44.080002</td>\n",
       "      <td>44.680000</td>\n",
       "      <td>30.757544</td>\n",
       "      <td>33110100</td>\n",
       "      <td>-0.002456</td>\n",
       "    </tr>\n",
       "    <tr>\n",
       "      <th>...</th>\n",
       "      <td>...</td>\n",
       "      <td>...</td>\n",
       "      <td>...</td>\n",
       "      <td>...</td>\n",
       "      <td>...</td>\n",
       "      <td>...</td>\n",
       "      <td>...</td>\n",
       "    </tr>\n",
       "    <tr>\n",
       "      <th>2024-03-22</th>\n",
       "      <td>199.009995</td>\n",
       "      <td>200.479996</td>\n",
       "      <td>196.539993</td>\n",
       "      <td>196.619995</td>\n",
       "      <td>195.479736</td>\n",
       "      <td>8105800</td>\n",
       "      <td>-0.012258</td>\n",
       "    </tr>\n",
       "    <tr>\n",
       "      <th>2024-03-25</th>\n",
       "      <td>196.600006</td>\n",
       "      <td>196.940002</td>\n",
       "      <td>194.360001</td>\n",
       "      <td>194.820007</td>\n",
       "      <td>193.690186</td>\n",
       "      <td>8620000</td>\n",
       "      <td>-0.009155</td>\n",
       "    </tr>\n",
       "    <tr>\n",
       "      <th>2024-03-26</th>\n",
       "      <td>194.589996</td>\n",
       "      <td>196.660004</td>\n",
       "      <td>194.059998</td>\n",
       "      <td>195.729996</td>\n",
       "      <td>194.594894</td>\n",
       "      <td>5961500</td>\n",
       "      <td>0.004671</td>\n",
       "    </tr>\n",
       "    <tr>\n",
       "      <th>2024-03-27</th>\n",
       "      <td>196.500000</td>\n",
       "      <td>199.600006</td>\n",
       "      <td>196.380005</td>\n",
       "      <td>199.520004</td>\n",
       "      <td>198.362930</td>\n",
       "      <td>8725800</td>\n",
       "      <td>0.019363</td>\n",
       "    </tr>\n",
       "    <tr>\n",
       "      <th>2024-03-28</th>\n",
       "      <td>199.490005</td>\n",
       "      <td>200.720001</td>\n",
       "      <td>198.539993</td>\n",
       "      <td>200.300003</td>\n",
       "      <td>199.138397</td>\n",
       "      <td>8628300</td>\n",
       "      <td>0.003909</td>\n",
       "    </tr>\n",
       "  </tbody>\n",
       "</table>\n",
       "<p>3583 rows × 7 columns</p>\n",
       "</div>"
      ],
      "text/plain": [
       "                  Open        High         Low       Close   Adj Close  \\\n",
       "Date                                                                     \n",
       "2010-01-04   41.790001   42.990002   41.669998   42.849998   29.497763   \n",
       "2010-01-05   42.790001   43.840000   42.779999   43.680000   30.069147   \n",
       "2010-01-06   43.450001   44.090000   43.310001   43.919998   30.234369   \n",
       "2010-01-07   43.790001   45.119999   43.610001   44.790001   30.833269   \n",
       "2010-01-08   44.369999   44.700001   44.080002   44.680000   30.757544   \n",
       "...                ...         ...         ...         ...         ...   \n",
       "2024-03-22  199.009995  200.479996  196.539993  196.619995  195.479736   \n",
       "2024-03-25  196.600006  196.940002  194.360001  194.820007  193.690186   \n",
       "2024-03-26  194.589996  196.660004  194.059998  195.729996  194.594894   \n",
       "2024-03-27  196.500000  199.600006  196.380005  199.520004  198.362930   \n",
       "2024-03-28  199.490005  200.720001  198.539993  200.300003  199.138397   \n",
       "\n",
       "              Volume   Returns  \n",
       "Date                            \n",
       "2010-01-04  35460500       NaN  \n",
       "2010-01-05  41208300  0.019370  \n",
       "2010-01-06  27729000  0.005494  \n",
       "2010-01-07  44864700  0.019809  \n",
       "2010-01-08  33110100 -0.002456  \n",
       "...              ...       ...  \n",
       "2024-03-22   8105800 -0.012258  \n",
       "2024-03-25   8620000 -0.009155  \n",
       "2024-03-26   5961500  0.004671  \n",
       "2024-03-27   8725800  0.019363  \n",
       "2024-03-28   8628300  0.003909  \n",
       "\n",
       "[3583 rows x 7 columns]"
      ]
     },
     "execution_count": 5,
     "metadata": {},
     "output_type": "execute_result"
    }
   ],
   "source": [
    "data[\"Returns\"] = data[\"Close\"].pct_change()\n",
    "data"
   ]
  },
  {
   "cell_type": "markdown",
   "id": "79338cc2",
   "metadata": {},
   "source": [
    "Calculate VaR"
   ]
  },
  {
   "cell_type": "code",
   "execution_count": 6,
   "id": "4e9b689d",
   "metadata": {},
   "outputs": [],
   "source": [
    "confidence_level = 0.95\n",
    "var = -np.percentile(data[\"Returns\"].dropna(), (1 - confidence_level) * 100)"
   ]
  },
  {
   "cell_type": "code",
   "execution_count": 12,
   "id": "cf93fed6",
   "metadata": {},
   "outputs": [
    {
     "data": {
      "text/plain": [
       "(array([ 0.04232807,  0.        ,  0.04232807,  0.        ,  0.        ,\n",
       "         0.        ,  0.04232807,  0.        ,  0.08465613,  0.        ,\n",
       "         0.08465613,  0.08465613,  0.08465613,  0.16931226,  0.42328066,\n",
       "         0.71957711,  1.31217003,  1.94709102,  3.97883816,  6.73016243,\n",
       "        11.64021803, 22.43387475, 33.73546826, 28.57144426, 18.03175593,\n",
       "         9.98942347,  4.86772754,  3.04762072,  1.18518584,  0.76190518,\n",
       "         0.46560872,  0.38095259,  0.1269842 ,  0.21164033,  0.08465613,\n",
       "         0.1269842 ,  0.08465613,  0.        ,  0.        ,  0.        ,\n",
       "         0.04232807,  0.        ,  0.        ,  0.04232807,  0.        ,\n",
       "         0.        ,  0.        ,  0.        ,  0.        ,  0.04232807]),\n",
       " array([-0.14964876, -0.14305328, -0.13645781, -0.12986234, -0.12326686,\n",
       "        -0.11667139, -0.11007592, -0.10348044, -0.09688497, -0.09028949,\n",
       "        -0.08369402, -0.07709855, -0.07050307, -0.0639076 , -0.05731213,\n",
       "        -0.05071665, -0.04412118, -0.0375257 , -0.03093023, -0.02433476,\n",
       "        -0.01773928, -0.01114381, -0.00454834,  0.00204714,  0.00864261,\n",
       "         0.01523809,  0.02183356,  0.02842903,  0.03502451,  0.04161998,\n",
       "         0.04821545,  0.05481093,  0.0614064 ,  0.06800188,  0.07459735,\n",
       "         0.08119282,  0.0877883 ,  0.09438377,  0.10097924,  0.10757472,\n",
       "         0.11417019,  0.12076567,  0.12736114,  0.13395661,  0.14055209,\n",
       "         0.14714756,  0.15374303,  0.16033851,  0.16693398,  0.17352946,\n",
       "         0.18012493]),\n",
       " <BarContainer object of 50 artists>)"
      ]
     },
     "execution_count": 12,
     "metadata": {},
     "output_type": "execute_result"
    },
    {
     "data": {
      "image/png": "[encoded data removed]",
      "text/plain": [
       "<Figure size 640x480 with 1 Axes>"
      ]
     },
     "metadata": {},
     "output_type": "display_data"
    }
   ],
   "source": [
    "plt.hist(data[\"Returns\"].dropna(), bins=50, density=True, alpha=0.7)\n"
   ]
  },
  {
   "cell_type": "code",
   "execution_count": 14,
   "id": "7b39a31e",
   "metadata": {},
   "outputs": [
    {
     "data": {
      "image/png": "[encoded data removed]",
      "text/plain": [
       "<Figure size 640x480 with 1 Axes>"
      ]
     },
     "metadata": {},
     "output_type": "display_data"
    }
   ],
   "source": [
    "plt.hist(data[\"Returns\"].dropna(), bins=50, density=True, alpha=0.7)\n",
    "plt.axvline(x=var, color=\"red\", linestyle=\"--\", linewidth=2)\n",
    "plt.xlabel(\"Returns\")\n",
    "plt.ylabel(\"Frequency\")\n",
    "plt.title(f\"Historical VaR at {confidence_level * 100}% Confidence Level: {var:.2%}\")\n",
    "plt.show()"
   ]
  },
  {
   "cell_type": "markdown",
   "id": "f91d8f45",
   "metadata": {},
   "source": [
    " Parametric VaR"
   ]
  },
  {
   "cell_type": "code",
   "execution_count": 15,
   "id": "117c6dd3",
   "metadata": {},
   "outputs": [],
   "source": [
    "mean = data[\"Returns\"].mean()\n",
    "std = data[\"Returns\"].std()"
   ]
  },
  {
   "cell_type": "code",
   "execution_count": 16,
   "id": "1f9ead7d",
   "metadata": {},
   "outputs": [],
   "source": [
    "var = -mean - std * np.percentile(np.random.normal(size=10000), (1 - confidence_level) * 100)"
   ]
  },
  {
   "cell_type": "code",
   "execution_count": 18,
   "id": "cefd6aaa",
   "metadata": {},
   "outputs": [
    {
     "data": {
      "image/png": "[encoded data removed]",
      "text/plain": [
       "<Figure size 640x480 with 1 Axes>"
      ]
     },
     "metadata": {},
     "output_type": "display_data"
    }
   ],
   "source": [
    "plt.hist(data[\"Returns\"].dropna(), bins=50, density=True, alpha=0.7)\n",
    "plt.axvline(x=var, color=\"red\", linestyle=\"--\", linewidth=2)\n",
    "plt.xlabel(\"Returns\")\n",
    "plt.ylabel(\"Frequency\")\n",
    "plt.title(f\"Parametric VaR at {confidence_level * 100}% Confidence Level: {var:.2%}\")\n",
    "plt.show()"
   ]
  },
  {
   "cell_type": "markdown",
   "id": "a06fc2b0",
   "metadata": {},
   "source": [
    " Comparing VaR Methods"
   ]
  },
  {
   "cell_type": "code",
   "execution_count": 20,
   "id": "ad79d9cd",
   "metadata": {},
   "outputs": [
    {
     "name": "stdout",
     "output_type": "stream",
     "text": [
      "Historical VaR: 2.60%\n",
      "Parametric VaR: 2.83%\n"
     ]
    }
   ],
   "source": [
    "historical_var = -np.percentile(data[\"Returns\"].dropna(), (1 - confidence_level) * 100)\n",
    "parametric_var = -mean - std * np.percentile(np.random.normal(size=10000), (1 - confidence_level) * 100)\n",
    "print(f\"Historical VaR: {historical_var:.2%}\")\n",
    "print(f\"Parametric VaR: {parametric_var:.2%}\")"
   ]
  },
  {
   "cell_type": "code",
   "execution_count": null,
   "id": "6d3ca299",
   "metadata": {},
   "outputs": [],
   "source": []
  }
 ],
 "metadata": {
  "kernelspec": {
   "display_name": "Python 3 (ipykernel)",
   "language": "python",
   "name": "python3"
  },
  "language_info": {
   "codemirror_mode": {
    "name": "ipython",
    "version": 3
   },
   "file_extension": ".py",
   "mimetype": "text/x-python",
   "name": "python",
   "nbconvert_exporter": "python",
   "pygments_lexer": "ipython3",
   "version": "3.9.13"
  }
 },
 "nbformat": 4,
 "nbformat_minor": 5
}
